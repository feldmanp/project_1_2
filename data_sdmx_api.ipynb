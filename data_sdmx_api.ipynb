{
 "cells": [
  {
   "cell_type": "code",
   "execution_count": 1,
   "id": "1975e59b-44ae-4af8-aecf-acf97d3b0086",
   "metadata": {},
   "outputs": [
    {
     "name": "stderr",
     "output_type": "stream",
     "text": [
      "C:\\Users\\duclt\\anaconda3\\envs\\dev\\lib\\site-packages\\pandasdmx\\remote.py:14: RuntimeWarning: optional dependency requests_cache is not installed; cache options to Session() have no effect\n",
      "  RuntimeWarning,\n"
     ]
    }
   ],
   "source": [
    "import pandasdmx as sdmx\n",
    "import requests"
   ]
  },
  {
   "cell_type": "code",
   "execution_count": 4,
   "id": "ffc160d5-34ca-4ded-8c86-2e2039f7ced9",
   "metadata": {},
   "outputs": [],
   "source": [
    "ausbs = sdmx.Request('ABS_XML')"
   ]
  },
  {
   "cell_type": "code",
   "execution_count": 5,
   "id": "a095f8e7-10c7-4050-95d8-433d49e529c7",
   "metadata": {},
   "outputs": [
    {
     "name": "stderr",
     "output_type": "stream",
     "text": [
      "2022-08-09 20:25:07,305 pandasdmx.reader.sdmxml - DEBUG: Truncate sub-microsecond time in <Prepared>\n"
     ]
    }
   ],
   "source": [
    "flow_msg = ausbs.dataflow()"
   ]
  },
  {
   "cell_type": "code",
   "execution_count": 6,
   "id": "8b2851d4-f47f-41f8-bc9f-95a86599ff70",
   "metadata": {},
   "outputs": [
    {
     "data": {
      "text/plain": [
       "'https://api.data.abs.gov.au/dataflow/ABS/latest'"
      ]
     },
     "execution_count": 6,
     "metadata": {},
     "output_type": "execute_result"
    }
   ],
   "source": [
    "flow_msg.response.url"
   ]
  },
  {
   "cell_type": "code",
   "execution_count": 7,
   "id": "126a50c2-26e6-4e6f-9cf4-9eae83af1f5d",
   "metadata": {},
   "outputs": [
    {
     "data": {
      "text/plain": [
       "<pandasdmx.StructureMessage>\n",
       "  <Header>\n",
       "    id: 'IDREF78336'\n",
       "    prepared: '2022-08-09T20:25:10.098528+10:00'\n",
       "    receiver: <Agency Unknown>\n",
       "    sender: <Agency Unknown>\n",
       "    source: \n",
       "    test: False\n",
       "  response: <Response [200]>\n",
       "  DataflowDefinition (773): ABORIGINAL_POP_PROJ ABORIGINAL_POP_PROJ_REM...\n",
       "  DataStructureDefinition (773): ABORIGINAL_POP_PROJ ABORIGINAL_POP_PRO..."
      ]
     },
     "execution_count": 7,
     "metadata": {},
     "output_type": "execute_result"
    }
   ],
   "source": [
    "flow_msg"
   ]
  },
  {
   "cell_type": "code",
   "execution_count": 8,
   "id": "d7eee1c0-913f-4c90-ad28-0e1997c825f1",
   "metadata": {},
   "outputs": [
    {
     "data": {
      "text/plain": [
       "<DataflowDefinition ABS:RES_DWELL_ST(1.0.0): Residential Dwellings: Values, Mean Price and Number by State and Territories>"
      ]
     },
     "execution_count": 8,
     "metadata": {},
     "output_type": "execute_result"
    }
   ],
   "source": [
    "flow_msg.dataflow.RES_DWELL_ST"
   ]
  },
  {
   "cell_type": "code",
   "execution_count": 9,
   "id": "9ce4865a-6299-4bc5-9257-961afac5ec3a",
   "metadata": {},
   "outputs": [
    {
     "name": "stderr",
     "output_type": "stream",
     "text": [
      "2022-08-09 20:25:35,936 pandasdmx.reader.sdmxml - DEBUG: Truncate sub-microsecond time in <Prepared>\n"
     ]
    },
    {
     "name": "stdout",
     "output_type": "stream",
     "text": [
      "\n",
      "\n",
      "\n",
      "--- SS without DSD ---\n",
      "{1: False}\n",
      "\n",
      "--- <class 'pandasdmx.message.StructureMessage'> ---\n",
      "{2: <pandasdmx.StructureMessage>\n",
      "  <Header>\n",
      "    id: 'IDREF78337'\n",
      "    prepared: '2022-08-09T20:25:38.923191+10:00'\n",
      "    receiver: <Agency Unknown>\n",
      "    sender: <Agency Unknown>\n",
      "    source: \n",
      "    test: False}\n",
      "\n",
      "--- <class 'pandasdmx.model.DataStructureDefinition'> ---\n",
      "{'RES_DWELL_ST': <DataStructureDefinition ABS:RES_DWELL_ST(1.0.0): Residential Dwellings: Values, Mean Price and Number by State and Territories Datastructure>}\n",
      "\n",
      "--- <class 'pandasdmx.model.Agency'> ---\n",
      "{'ABS': <Agency ABS>}\n",
      "\n",
      "--- <class 'pandasdmx.model.DataflowDefinition'> ---\n",
      "{'RES_DWELL_ST': <DataflowDefinition ABS:RES_DWELL_ST(1.0.0): Residential Dwellings: Values, Mean Price and Number by State and Territories>}\n",
      "\n",
      "--- <class 'pandasdmx.model.CategoryScheme'> ---\n",
      "{68: <CategoryScheme ABS:INDUSTRY(1.0.0) (8 items): Industries>, 69: <CategoryScheme ABS:INDUSTRY(1.0.0) (1 items)>}\n",
      "\n",
      "--- <class 'pandasdmx.model.Categorisation'> ---\n",
      "{'CAT_RES_DWELL_ST': <Categorisation ABS:CAT_RES_DWELL_ST(1.0.0): RES_DWELL_ST  CAtegorisation>}\n",
      "\n",
      "--- <class 'pandasdmx.model.Codelist'> ---\n",
      "{'CL_FREQ': <Codelist ABS:CL_FREQ(1.0.0) (9 items): Frequency>, 'CL_OBS_STATUS': <Codelist ABS:CL_OBS_STATUS(1.0.0) (16 items): Observation Status>, 'CL_RES_DWELL_ST_MEASURE': <Codelist ABS:CL_RES_DWELL_ST_MEASURE(1.0.0) (5 items): Measure>, 'CL_STATE': <Codelist ABS:CL_STATE(1.0.0) (10 items): State>, 'CL_UNIT_MEASURE': <Codelist ABS:CL_UNIT_MEASURE(1.0.0) (88 items): Unit of Measure>, 'CL_UNIT_MULT': <Codelist ABS:CL_UNIT_MULT(1.0.0) (31 items): Unit Multiplier>}\n",
      "\n",
      "--- <class 'pandasdmx.model.ConceptScheme'> ---\n",
      "{801: <ConceptScheme ABS:CS_COMMON(1.0.0) (5 items): Common Concepts>, 802: <ConceptScheme ABS:CS_COMMON(1.0.0) (1 items)>, 808: <ConceptScheme ABS:CS_GEOGRAPHY(1.0.0) (25 items): Geography Concepts>, 809: <ConceptScheme ABS:CS_GEOGRAPHY(1.0.0) (1 items)>, 'CS_COMMON': <ConceptScheme ABS:CS_COMMON(1.0.0) (3 items)>, 826: <ConceptScheme ABS:CS_ATTRIBUTE(1.0.0) (6 items): Attribute Concepts>, 827: <ConceptScheme ABS:CS_ATTRIBUTE(1.0.0) (1 items)>, 'CS_ATTRIBUTE': <ConceptScheme ABS:CS_ATTRIBUTE(1.0.0) (3 items)>}\n",
      "\n",
      "--- <class 'pandasdmx.model.Annotation'> ---\n",
      "{'obs_count': Annotation(id='obs_count', title='1890', type='sdmx_metrics', url=None, text=), 856: Annotation(id=None, title='A', type='ReleaseVersion', url=None, text=)}\n",
      "\n",
      "--- Name ---\n",
      "{857: ('en', 'Availability (A) for RES_DWELL_ST')}\n",
      "\n",
      "--- <class 'pandasdmx.reader.sdmxml.Reference'> ---\n",
      "{'RES_DWELL_ST': <pandasdmx.reader.sdmxml.Reference object at 0x000001FE001D5F08>}\n",
      "\n",
      "--- <class 'pandasdmx.model.MemberSelection'> ---\n",
      "{864: <MemberSelection MEASURE in {'1', '2', '3', '4', '5'}>, 874: <MemberSelection REGION in {'1', '2', '3', '4', '5', '6', '7', '8', 'AUS'}>, 876: <MemberSelection FREQ in {'Q'}>}\n",
      "\n",
      "--- <class 'pandasdmx.model.RangePeriod'> ---\n",
      "{879: RangePeriod(start=Period(is_inclusive=True, period=datetime.datetime(2011, 7, 1, 0, 0)), end=Period(is_inclusive=True, period=datetime.datetime(2021, 12, 31, 0, 0)))}\n",
      "\n",
      "<common:KeyValue xmlns:common=\"http://www.sdmx.org/resources/sdmxml/schemas/v2_1/common\" xmlns:message=\"http://www.sdmx.org/resources/sdmxml/schemas/v2_1/message\" xmlns:structure=\"http://www.sdmx.org/resources/sdmxml/schemas/v2_1/structure\" id=\"TIME_PERIOD\">\n",
      "            <common:TimeRange/></common:KeyValue>\n",
      "        </structure:CubeRegion>\n",
      "      </structure:ContentConstraint>\n",
      "      <structure:ContentConstraint id=\"CR_B_RES_DWELL_ST\" agencyID=\"ABS\" version=\"1.0.0\" validFrom=\"2022-06-14T12:00:00\" isFinal=\"false\" type=\"Actual\">\n",
      "        <common:Annotations>\n",
      "          <common:Annotation id=\"obs_count\">\n",
      "            <common:AnnotationTitle>1935</common:AnnotationTitle>\n",
      "            <common:AnnotationType>sdmx_metrics</common:AnnotationType>\n",
      "          </common:Annotation>\n",
      "          <common:Annotation>\n",
      "            <common:AnnotationTitle>B</common:AnnotationTitle>\n",
      "            <common:AnnotationType>ReleaseVersion</common:AnnotationType>\n",
      "          </common:Annotation>\n",
      "        </common:Annotations>\n",
      "        <common:Name xml:lang=\"en\">Availability (B) for RES_DWELL_ST</common:Name>\n",
      "        <structure:ConstraintAttachment>\n",
      "          <structure:Dataflow>\n",
      "            <Ref id=\"RES_DWELL_ST\" version=\"1.0.0\" agencyID=\"ABS\" package=\"datastructure\" class=\"Dataflow\"/>\n",
      "          </structure:Dataflow>\n",
      "        </structure:ConstraintAttachment>\n",
      "        <structure:CubeRegion include=\"true\">\n",
      "          <common:KeyValue id=\"MEASURE\">\n",
      "            <common:Value>1</common:Value>\n",
      "            <common:Value>2</common:Value>\n",
      "            <common:Value>3</common:Value>\n",
      "            <common:Value>4</common:Value>\n",
      "            <common:Value>5</common:Value>\n",
      "          </common:KeyValue>\n",
      "          <common:KeyValue id=\"REGION\">\n",
      "            <common:Value>1</common:Value>\n",
      "            <common:Value>2</common:Value>\n",
      "            <common:Value>3</common:Value>\n",
      "            <common:Value>4</common:Value>\n",
      "            <common:Value>5</common:Value>\n",
      "            <common:Value>6</common:Value>\n",
      "            <common:Value>7</common:Value>\n",
      "            <common:Value>8</common:Value>\n",
      "            <common:Value>AUS</common:Value>\n",
      "          </common:KeyValue>\n",
      "          <common:KeyValue id=\"FREQ\">\n",
      "            <common:Value>Q</common:Value>\n",
      "          </common:KeyValue>\n",
      "          <common:KeyValue id=\"TIME_PERIOD\">\n",
      "            <common:TimeRange>\n",
      "              <common:StartPeriod isInclusive=\"true\">2011-07-01T00:00:00</common:StartPeriod>\n",
      "              <common:EndPeriod isInclusive=\"true\">2022-03-31T00:00:00</common:EndPeriod>\n",
      "            </common:TimeRange>\n",
      "          </common:KeyValue>\n",
      "        </structure:CubeRegion>\n",
      "      </structure:ContentConstraint>\n",
      "    </structure:Constraints>\n",
      "  </message:Structures>\n",
      "</message:Structure>\n",
      "        \n",
      "\n"
     ]
    },
    {
     "ename": "XMLParseError",
     "evalue": "RuntimeError",
     "output_type": "error",
     "traceback": [
      "\u001b[1;31m---------------------------------------------------------------------------\u001b[0m",
      "\u001b[1;31mRuntimeError\u001b[0m                              Traceback (most recent call last)",
      "\u001b[1;32m~\\anaconda3\\envs\\dev\\lib\\site-packages\\pandasdmx\\reader\\sdmxml.py\u001b[0m in \u001b[0;36mread_message\u001b[1;34m(self, source, dsd)\u001b[0m\n\u001b[0;32m    241\u001b[0m                     \u001b[1;31m# Parse the element\u001b[0m\u001b[1;33m\u001b[0m\u001b[1;33m\u001b[0m\u001b[1;33m\u001b[0m\u001b[0m\n\u001b[1;32m--> 242\u001b[1;33m                     \u001b[0mresult\u001b[0m \u001b[1;33m=\u001b[0m \u001b[0mfunc\u001b[0m\u001b[1;33m(\u001b[0m\u001b[0mself\u001b[0m\u001b[1;33m,\u001b[0m \u001b[0melement\u001b[0m\u001b[1;33m)\u001b[0m\u001b[1;33m\u001b[0m\u001b[1;33m\u001b[0m\u001b[0m\n\u001b[0m\u001b[0;32m    243\u001b[0m                 \u001b[1;32mexcept\u001b[0m \u001b[0mTypeError\u001b[0m\u001b[1;33m:\u001b[0m\u001b[1;33m\u001b[0m\u001b[1;33m\u001b[0m\u001b[0m\n",
      "\u001b[1;32m~\\anaconda3\\envs\\dev\\lib\\site-packages\\pandasdmx\\reader\\sdmxml.py\u001b[0m in \u001b[0;36m_ms\u001b[1;34m(reader, elem)\u001b[0m\n\u001b[0;32m   1126\u001b[0m     \u001b[1;32melse\u001b[0m\u001b[1;33m:\u001b[0m\u001b[1;33m\u001b[0m\u001b[1;33m\u001b[0m\u001b[0m\n\u001b[1;32m-> 1127\u001b[1;33m         \u001b[1;32mraise\u001b[0m \u001b[0mRuntimeError\u001b[0m\u001b[1;33m\u001b[0m\u001b[1;33m\u001b[0m\u001b[0m\n\u001b[0m\u001b[0;32m   1128\u001b[0m \u001b[1;33m\u001b[0m\u001b[0m\n",
      "\u001b[1;31mRuntimeError\u001b[0m: ",
      "\nThe above exception was the direct cause of the following exception:\n",
      "\u001b[1;31mXMLParseError\u001b[0m                             Traceback (most recent call last)",
      "\u001b[1;32m~\\AppData\\Local\\Temp\\ipykernel_16004\\3485042434.py\u001b[0m in \u001b[0;36m<module>\u001b[1;34m\u001b[0m\n\u001b[1;32m----> 1\u001b[1;33m \u001b[0mres_dwell_st_msg\u001b[0m \u001b[1;33m=\u001b[0m \u001b[0mausbs\u001b[0m\u001b[1;33m.\u001b[0m\u001b[0mdataflow\u001b[0m\u001b[1;33m(\u001b[0m\u001b[1;34m'RES_DWELL_ST'\u001b[0m\u001b[1;33m)\u001b[0m\u001b[1;33m\u001b[0m\u001b[1;33m\u001b[0m\u001b[0m\n\u001b[0m",
      "\u001b[1;32m~\\anaconda3\\envs\\dev\\lib\\site-packages\\pandasdmx\\api.py\u001b[0m in \u001b[0;36mget\u001b[1;34m(self, resource_type, resource_id, tofile, use_cache, dry_run, **kwargs)\u001b[0m\n\u001b[0;32m    513\u001b[0m \u001b[1;33m\u001b[0m\u001b[0m\n\u001b[0;32m    514\u001b[0m         \u001b[1;31m# Parse the message, using any provided or auto-queried DSD\u001b[0m\u001b[1;33m\u001b[0m\u001b[1;33m\u001b[0m\u001b[1;33m\u001b[0m\u001b[0m\n\u001b[1;32m--> 515\u001b[1;33m         \u001b[0mmsg\u001b[0m \u001b[1;33m=\u001b[0m \u001b[0mreader\u001b[0m\u001b[1;33m.\u001b[0m\u001b[0mread_message\u001b[0m\u001b[1;33m(\u001b[0m\u001b[0mresponse_content\u001b[0m\u001b[1;33m,\u001b[0m \u001b[0mdsd\u001b[0m\u001b[1;33m=\u001b[0m\u001b[0mkwargs\u001b[0m\u001b[1;33m.\u001b[0m\u001b[0mget\u001b[0m\u001b[1;33m(\u001b[0m\u001b[1;34m\"dsd\"\u001b[0m\u001b[1;33m,\u001b[0m \u001b[1;32mNone\u001b[0m\u001b[1;33m)\u001b[0m\u001b[1;33m)\u001b[0m\u001b[1;33m\u001b[0m\u001b[1;33m\u001b[0m\u001b[0m\n\u001b[0m\u001b[0;32m    516\u001b[0m \u001b[1;33m\u001b[0m\u001b[0m\n\u001b[0;32m    517\u001b[0m         \u001b[1;31m# Store the HTTP response with the message\u001b[0m\u001b[1;33m\u001b[0m\u001b[1;33m\u001b[0m\u001b[1;33m\u001b[0m\u001b[0m\n",
      "\u001b[1;32m~\\anaconda3\\envs\\dev\\lib\\site-packages\\pandasdmx\\reader\\sdmxml.py\u001b[0m in \u001b[0;36mread_message\u001b[1;34m(self, source, dsd)\u001b[0m\n\u001b[0;32m    257\u001b[0m             \u001b[0mself\u001b[0m\u001b[1;33m.\u001b[0m\u001b[0m_dump\u001b[0m\u001b[1;33m(\u001b[0m\u001b[1;33m)\u001b[0m\u001b[1;33m\u001b[0m\u001b[1;33m\u001b[0m\u001b[0m\n\u001b[0;32m    258\u001b[0m             \u001b[0mprint\u001b[0m\u001b[1;33m(\u001b[0m\u001b[0metree\u001b[0m\u001b[1;33m.\u001b[0m\u001b[0mtostring\u001b[0m\u001b[1;33m(\u001b[0m\u001b[0melement\u001b[0m\u001b[1;33m,\u001b[0m \u001b[0mpretty_print\u001b[0m\u001b[1;33m=\u001b[0m\u001b[1;32mTrue\u001b[0m\u001b[1;33m)\u001b[0m\u001b[1;33m.\u001b[0m\u001b[0mdecode\u001b[0m\u001b[1;33m(\u001b[0m\u001b[1;33m)\u001b[0m\u001b[1;33m)\u001b[0m\u001b[1;33m\u001b[0m\u001b[1;33m\u001b[0m\u001b[0m\n\u001b[1;32m--> 259\u001b[1;33m             \u001b[1;32mraise\u001b[0m \u001b[0mXMLParseError\u001b[0m \u001b[1;32mfrom\u001b[0m \u001b[0mexc\u001b[0m\u001b[1;33m\u001b[0m\u001b[1;33m\u001b[0m\u001b[0m\n\u001b[0m\u001b[0;32m    260\u001b[0m \u001b[1;33m\u001b[0m\u001b[0m\n\u001b[0;32m    261\u001b[0m         \u001b[1;31m# Parsing complete; count uncollected items from the stacks, which represent\u001b[0m\u001b[1;33m\u001b[0m\u001b[1;33m\u001b[0m\u001b[1;33m\u001b[0m\u001b[0m\n",
      "\u001b[1;31mXMLParseError\u001b[0m: RuntimeError"
     ]
    }
   ],
   "source": [
    "res_dwell_st_msg = ausbs.dataflow('RES_DWELL_ST')"
   ]
  },
  {
   "cell_type": "code",
   "execution_count": null,
   "id": "d207737c-e8f5-4ab9-a97c-2976872bca2a",
   "metadata": {},
   "outputs": [],
   "source": []
  }
 ],
 "metadata": {
  "kernelspec": {
   "display_name": "dev",
   "language": "python",
   "name": "dev"
  },
  "language_info": {
   "codemirror_mode": {
    "name": "ipython",
    "version": 3
   },
   "file_extension": ".py",
   "mimetype": "text/x-python",
   "name": "python",
   "nbconvert_exporter": "python",
   "pygments_lexer": "ipython3",
   "version": "3.7.13"
  }
 },
 "nbformat": 4,
 "nbformat_minor": 5
}
